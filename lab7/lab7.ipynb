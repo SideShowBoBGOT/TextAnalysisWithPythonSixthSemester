{
 "cells": [
  {
   "attachments": {},
   "cell_type": "markdown",
   "metadata": {},
   "source": [
    "# Виконання"
   ]
  },
  {
   "attachments": {},
   "cell_type": "markdown",
   "metadata": {},
   "source": [
    "## Завдання перше"
   ]
  },
  {
   "attachments": {},
   "cell_type": "markdown",
   "metadata": {},
   "source": [
    "### Зчитаємо файл. with - оператор контексту, який автоматично закриває файл."
   ]
  },
  {
   "cell_type": "code",
   "execution_count": 22,
   "metadata": {},
   "outputs": [
    {
     "name": "stdout",
     "output_type": "stream",
     "text": [
      "At three  o'clock 12/05/1895 precisely I was at Baker Street, but Holmes had not\n",
      "yet returned (005)-456-34-23. The landlady informed me that he baker_street@here.uk had left the house\n",
      "shortly after eight o'clock in the morning. I sat down beside the\n",
      "fire, however, with the intention of awaiting him,, however long he\n",
      "might be. 145 124 245 I was already 67-56-34 deeply interested in his inquiry, for, though\n",
      "it was surrounded by none of the grim and strange features which\n",
      "were Watson3@gmail.com associated with the two crimes which I have already recorded,\n",
      "still, the nature of  the case and the exalted station of his client\n",
      "gave it a character of its own 1896/01/23.. Indeed, apart from the nature of the\n",
      "investigation which my friend had on hand, there was something in his\n",
      "masterly 5618 4582 8225 1471 grasp of a situation, and his (03)-8-45-34 keen, incisive reasoning, which\n",
      "made it a pleasure to me to study his system of work, and to follow the\n",
      "quick, subtle 4987 1514 6555 4212 methods by which he disentangled the most inextricable\n",
      "mysteries. So accustomed was I ShHolmes@mail.uk to his invariable success that the very\n",
      "possibility of his failing  had ceased to enter into my head.\n"
     ]
    }
   ],
   "source": [
    "with open('text1.txt', 'r') as file:\n",
    "    s = ''.join(file.readlines())\n",
    "print(s)"
   ]
  },
  {
   "attachments": {},
   "cell_type": "markdown",
   "metadata": {},
   "source": [
    "*Зчитування файлу*"
   ]
  },
  {
   "attachments": {},
   "cell_type": "markdown",
   "metadata": {},
   "source": [
    "### Імпортуємо SpaCy та словник англійської мови."
   ]
  },
  {
   "cell_type": "code",
   "execution_count": 23,
   "metadata": {},
   "outputs": [],
   "source": [
    "import spacy\n",
    "from spacy.matcher import Matcher\n",
    "py_nlp = spacy.blank(\"en\")"
   ]
  },
  {
   "attachments": {},
   "cell_type": "markdown",
   "metadata": {},
   "source": [
    "*Імпортування SpaCy*"
   ]
  },
  {
   "attachments": {},
   "cell_type": "markdown",
   "metadata": {},
   "source": [
    "### Покажемо розбиття тексту на токени. Бачимо, що токени з текстами складно піддати обробці за допомогою звичайних атрибутів Matcher паттерна, тому використаємо атрибут REGEX."
   ]
  },
  {
   "cell_type": "code",
   "execution_count": 24,
   "metadata": {},
   "outputs": [
    {
     "data": {
      "text/plain": [
       "['At',\n",
       " 'three',\n",
       " ' ',\n",
       " \"o'clock\",\n",
       " '12/05/1895',\n",
       " 'precisely',\n",
       " 'I',\n",
       " 'was',\n",
       " 'at',\n",
       " 'Baker',\n",
       " 'Street',\n",
       " ',',\n",
       " 'but',\n",
       " 'Holmes',\n",
       " 'had',\n",
       " 'not',\n",
       " '\\n',\n",
       " 'yet',\n",
       " 'returned',\n",
       " '(',\n",
       " '005)-456',\n",
       " '-',\n",
       " '34',\n",
       " '-',\n",
       " '23',\n",
       " '.',\n",
       " 'The',\n",
       " 'landlady',\n",
       " 'informed',\n",
       " 'me',\n",
       " 'that',\n",
       " 'he',\n",
       " 'baker_street@here.uk',\n",
       " 'had',\n",
       " 'left',\n",
       " 'the',\n",
       " 'house',\n",
       " '\\n',\n",
       " 'shortly',\n",
       " 'after',\n",
       " 'eight',\n",
       " \"o'clock\",\n",
       " 'in',\n",
       " 'the',\n",
       " 'morning',\n",
       " '.',\n",
       " 'I',\n",
       " 'sat',\n",
       " 'down',\n",
       " 'beside',\n",
       " 'the',\n",
       " '\\n',\n",
       " 'fire',\n",
       " ',',\n",
       " 'however',\n",
       " ',',\n",
       " 'with',\n",
       " 'the',\n",
       " 'intention',\n",
       " 'of',\n",
       " 'awaiting',\n",
       " 'him',\n",
       " ',',\n",
       " ',',\n",
       " 'however',\n",
       " 'long',\n",
       " 'he',\n",
       " '\\n',\n",
       " 'might',\n",
       " 'be',\n",
       " '.',\n",
       " '145',\n",
       " '124',\n",
       " '245',\n",
       " 'I',\n",
       " 'was',\n",
       " 'already',\n",
       " '67',\n",
       " '-',\n",
       " '56',\n",
       " '-',\n",
       " '34',\n",
       " 'deeply',\n",
       " 'interested',\n",
       " 'in',\n",
       " 'his',\n",
       " 'inquiry',\n",
       " ',',\n",
       " 'for',\n",
       " ',',\n",
       " 'though',\n",
       " '\\n',\n",
       " 'it',\n",
       " 'was',\n",
       " 'surrounded',\n",
       " 'by',\n",
       " 'none',\n",
       " 'of',\n",
       " 'the',\n",
       " 'grim',\n",
       " 'and',\n",
       " 'strange',\n",
       " 'features',\n",
       " 'which',\n",
       " '\\n',\n",
       " 'were',\n",
       " 'Watson3@gmail.com',\n",
       " 'associated',\n",
       " 'with',\n",
       " 'the',\n",
       " 'two',\n",
       " 'crimes',\n",
       " 'which',\n",
       " 'I',\n",
       " 'have',\n",
       " 'already',\n",
       " 'recorded',\n",
       " ',',\n",
       " '\\n',\n",
       " 'still',\n",
       " ',',\n",
       " 'the',\n",
       " 'nature',\n",
       " 'of',\n",
       " ' ',\n",
       " 'the',\n",
       " 'case',\n",
       " 'and',\n",
       " 'the',\n",
       " 'exalted',\n",
       " 'station',\n",
       " 'of',\n",
       " 'his',\n",
       " 'client',\n",
       " '\\n',\n",
       " 'gave',\n",
       " 'it',\n",
       " 'a',\n",
       " 'character',\n",
       " 'of',\n",
       " 'its',\n",
       " 'own',\n",
       " '1896/01/23',\n",
       " '..',\n",
       " 'Indeed',\n",
       " ',',\n",
       " 'apart',\n",
       " 'from',\n",
       " 'the',\n",
       " 'nature',\n",
       " 'of',\n",
       " 'the',\n",
       " '\\n',\n",
       " 'investigation',\n",
       " 'which',\n",
       " 'my',\n",
       " 'friend',\n",
       " 'had',\n",
       " 'on',\n",
       " 'hand',\n",
       " ',',\n",
       " 'there',\n",
       " 'was',\n",
       " 'something',\n",
       " 'in',\n",
       " 'his',\n",
       " '\\n',\n",
       " 'masterly',\n",
       " '5618',\n",
       " '4582',\n",
       " '8225',\n",
       " '1471',\n",
       " 'grasp',\n",
       " 'of',\n",
       " 'a',\n",
       " 'situation',\n",
       " ',',\n",
       " 'and',\n",
       " 'his',\n",
       " '(',\n",
       " '03)-8',\n",
       " '-',\n",
       " '45',\n",
       " '-',\n",
       " '34',\n",
       " 'keen',\n",
       " ',',\n",
       " 'incisive',\n",
       " 'reasoning',\n",
       " ',',\n",
       " 'which',\n",
       " '\\n',\n",
       " 'made',\n",
       " 'it',\n",
       " 'a',\n",
       " 'pleasure',\n",
       " 'to',\n",
       " 'me',\n",
       " 'to',\n",
       " 'study',\n",
       " 'his',\n",
       " 'system',\n",
       " 'of',\n",
       " 'work',\n",
       " ',',\n",
       " 'and',\n",
       " 'to',\n",
       " 'follow',\n",
       " 'the',\n",
       " '\\n',\n",
       " 'quick',\n",
       " ',',\n",
       " 'subtle',\n",
       " '4987',\n",
       " '1514',\n",
       " '6555',\n",
       " '4212',\n",
       " 'methods',\n",
       " 'by',\n",
       " 'which',\n",
       " 'he',\n",
       " 'disentangled',\n",
       " 'the',\n",
       " 'most',\n",
       " 'inextricable',\n",
       " '\\n',\n",
       " 'mysteries',\n",
       " '.',\n",
       " 'So',\n",
       " 'accustomed',\n",
       " 'was',\n",
       " 'I',\n",
       " 'ShHolmes@mail.uk',\n",
       " 'to',\n",
       " 'his',\n",
       " 'invariable',\n",
       " 'success',\n",
       " 'that',\n",
       " 'the',\n",
       " 'very',\n",
       " '\\n',\n",
       " 'possibility',\n",
       " 'of',\n",
       " 'his',\n",
       " 'failing',\n",
       " ' ',\n",
       " 'had',\n",
       " 'ceased',\n",
       " 'to',\n",
       " 'enter',\n",
       " 'into',\n",
       " 'my',\n",
       " 'head',\n",
       " '.']"
      ]
     },
     "execution_count": 24,
     "metadata": {},
     "output_type": "execute_result"
    }
   ],
   "source": [
    "doc = py_nlp(s)\n",
    "[tok.text for tok in doc]"
   ]
  },
  {
   "attachments": {},
   "cell_type": "markdown",
   "metadata": {},
   "source": [
    "*Токени*"
   ]
  },
  {
   "attachments": {},
   "cell_type": "markdown",
   "metadata": {},
   "source": [
    "### Визанчимо паттерн та знайдемо всі номери телефонів."
   ]
  },
  {
   "cell_type": "code",
   "execution_count": 46,
   "metadata": {},
   "outputs": [
    {
     "name": "stdout",
     "output_type": "stream",
     "text": [
      "(3884770101205390969, 19, 25) (005)-456-34-23\n",
      "(3884770101205390969, 71, 74) 145 124 245\n",
      "(3884770101205390969, 77, 82) 67-56-34\n",
      "(3884770101205390969, 179, 185) (03)-8-45-34\n"
     ]
    }
   ],
   "source": [
    "patterns = [\n",
    "    [{\"IS_DIGIT\": True, 'LENGTH': 3, 'OP': '{3,}'}],\n",
    "    [{\"IS_DIGIT\": True, 'LENGTH': 2},\n",
    "     {'TEXT': '-'},\n",
    "     {\"IS_DIGIT\": True, 'LENGTH': 2},\n",
    "     {'TEXT': '-'},\n",
    "     {\"IS_DIGIT\": True, 'LENGTH': 2}],\n",
    "    [{'TEXT': '('},\n",
    "     {'TEXT': {'REGEX': r'\\d\\d\\d[)][-]\\d\\d\\d'}},\n",
    "     {'TEXT': '-'},\n",
    "     {\"IS_DIGIT\": True, 'LENGTH': 2},\n",
    "     {'TEXT': '-'},\n",
    "     {\"IS_DIGIT\": True, 'LENGTH': 2}],\n",
    "    [{'TEXT': '('},\n",
    "     {'TEXT': {'REGEX': r'\\d\\d[)][-]\\d'}},\n",
    "     {'TEXT': '-'},\n",
    "     {\"IS_DIGIT\": True, 'LENGTH': 2},\n",
    "     {'TEXT': '-'},\n",
    "     {\"IS_DIGIT\": True, 'LENGTH': 2}]\n",
    "]\n",
    "matcher = Matcher(py_nlp.vocab)\n",
    "matcher.add(\"PROPER_PHONE_NUMBER\", patterns)\n",
    "matches = matcher(doc)\n",
    "for match in matches:\n",
    "    print(match, doc[match[1]:match[2]])"
   ]
  },
  {
   "attachments": {},
   "cell_type": "markdown",
   "metadata": {},
   "source": [
    "*Знаходження номерів телефонів*"
   ]
  },
  {
   "attachments": {},
   "cell_type": "markdown",
   "metadata": {},
   "source": [
    "### Замінимо цифри на зірочки."
   ]
  },
  {
   "cell_type": "code",
   "execution_count": 75,
   "metadata": {},
   "outputs": [
    {
     "name": "stdout",
     "output_type": "stream",
     "text": [
      "['(', '0', '*', '*', ')', '-', '*', '*', '*', '-', '*', '*', '-', '*', '*']\n"
     ]
    },
    {
     "ename": "AttributeError",
     "evalue": "attribute 'text' of 'spacy.tokens.token.Token' objects is not writable",
     "output_type": "error",
     "traceback": [
      "\u001b[0;31m---------------------------------------------------------------------------\u001b[0m",
      "\u001b[0;31mAttributeError\u001b[0m                            Traceback (most recent call last)",
      "Cell \u001b[0;32mIn[75], line 14\u001b[0m\n\u001b[1;32m     12\u001b[0m     \u001b[39mprint\u001b[39m(chars)\n\u001b[1;32m     13\u001b[0m     \u001b[39mfor\u001b[39;00m j, s \u001b[39min\u001b[39;00m \u001b[39mzip\u001b[39m(\u001b[39mrange\u001b[39m(match[\u001b[39m1\u001b[39m], match[\u001b[39m2\u001b[39m]), \u001b[39m'\u001b[39m\u001b[39m'\u001b[39m\u001b[39m.\u001b[39mjoin(chars)):\n\u001b[0;32m---> 14\u001b[0m         doc[j]\u001b[39m.\u001b[39;49mtext \u001b[39m=\u001b[39m s\n\u001b[1;32m     15\u001b[0m doc\n",
      "\u001b[0;31mAttributeError\u001b[0m: attribute 'text' of 'spacy.tokens.token.Token' objects is not writable"
     ]
    }
   ],
   "source": [
    "tokens = [el.text for el in doc]\n",
    "for match in matches:\n",
    "    found_first_digit = False\n",
    "    for i, el in enumerate(doc[match[1]:match[2]]):\n",
    "        chars = list(el.text)\n",
    "        for j, c in enumerate(chars):\n",
    "            if c.isdigit() and not found_first_digit:\n",
    "                found_first_digit = True\n",
    "                continue\n",
    "            elif c.isdigit() and found_first_digit:\n",
    "                chars[j] = '*'\n",
    "        \n",
    "        ff = ''.join(chars)\n",
    "        tokens[match[1] + i] = ff\n",
    "text = ' '.join(tokens)\n",
    "            \n",
    "            \n",
    "        \n",
    "    \n",
    "    "
   ]
  },
  {
   "attachments": {},
   "cell_type": "markdown",
   "metadata": {},
   "source": [
    "*Заміна тексту*"
   ]
  }
 ],
 "metadata": {
  "kernelspec": {
   "display_name": "Python 3",
   "language": "python",
   "name": "python3"
  },
  "language_info": {
   "codemirror_mode": {
    "name": "ipython",
    "version": 3
   },
   "file_extension": ".py",
   "mimetype": "text/x-python",
   "name": "python",
   "nbconvert_exporter": "python",
   "pygments_lexer": "ipython3",
   "version": "3.10.6"
  },
  "orig_nbformat": 4
 },
 "nbformat": 4,
 "nbformat_minor": 2
}
